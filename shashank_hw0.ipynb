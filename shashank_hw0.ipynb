{
 "cells": [
  {
   "cell_type": "markdown",
   "metadata": {},
   "source": [
    "## Assignment Zero - Data Mining\n",
    "## Zotero User_ID -->  shashank2242"
   ]
  },
  {
   "cell_type": "markdown",
   "metadata": {},
   "source": [
    "\n",
    "\n",
    "### Q.1  List 3 things that you learned from this podcast?\n",
    "\n",
    "- I was not surprised when Adam said 96% of the data related things are using python language. The one thing which was really ool to know how the name Jupyter notebook was given. Its a combination of Julia , python and R, the three languages used, and the notebook word to depict that its not just a script of code, but a proper descriptive form of code called as notebook\n",
    "\n",
    "- I got to know how any person can colaborate easily on the notebooks. Multiple people working on the same project will be easily able to control the versions\n",
    "\n",
    "- As many things are happening in one particular code, there are n number of steps associated with it. So, I learned we can create a nice cell by cell code with clear mentioning of the topic in each cell. "
   ]
  },
  {
   "cell_type": "markdown",
   "metadata": {},
   "source": [
    "\n",
    "\n",
    "\n",
    "\n",
    "### Q. 2 What is your reaction to the podcast? Pick at least one point Adam brought up in the interview that you agree with and list your reason why? \n",
    "    In my honest opinon, the podcast was very much informative. Firstly Adam has done PHD in Human Computer Interaction, his talk on the congnitive psychology was astonishing. I am now intersted to listen to more and more such podcasts.\n",
    "\n",
    "    In the interview Adam said that in the future we no longer will be sending the scientific results in the PDF format, we cannot just desctibe the whole thing in 3 sentences description. I actually agree with Adam here.\n",
    "\n",
    "    The Jupyter notebook gives the facility to describe each line of code, the user defined functions and other things written in the script using the markdown language integrated with the coding language. That just completely gives so much description line by line to the random unrelated person to easily understand what the notebook is about. In companies, one employee who’s leaving the job and handing over the tasks and all documents to the next one, its actually a great help to the other to get the self explainatory notebook without getting lost. "
   ]
  },
  {
   "cell_type": "markdown",
   "metadata": {},
   "source": [
    "### Q. 3  After listening to the podcast , do you think you are more interested or less interested in learning from Jupyter notebooks on Github?\n",
    "\n",
    "    After listening to Adam's podcast, I feel jupyter notebook is best way one can write programs and that too on Github. In addition to that the github provides the great facility to use the repositories for all different types of files. It could be .py , .ipynb , .md anything can be placed in one place and a nice digital shelf can be created. It also has an option of private/public files so that you can share your worl to the world. In a nushell, \"I'm Exited !\""
   ]
  },
  {
   "cell_type": "code",
   "execution_count": 1,
   "metadata": {},
   "outputs": [],
   "source": [
    "# Assignment Ends Here"
   ]
  },
  {
   "cell_type": "code",
   "execution_count": null,
   "metadata": {},
   "outputs": [],
   "source": []
  }
 ],
 "metadata": {
  "kernelspec": {
   "display_name": "Python 3.10.5 64-bit",
   "language": "python",
   "name": "python3"
  },
  "language_info": {
   "codemirror_mode": {
    "name": "ipython",
    "version": 3
   },
   "file_extension": ".py",
   "mimetype": "text/x-python",
   "name": "python",
   "nbconvert_exporter": "python",
   "pygments_lexer": "ipython3",
   "version": "3.10.5"
  },
  "vscode": {
   "interpreter": {
    "hash": "aee8b7b246df8f9039afb4144a1f6fd8d2ca17a180786b69acc140d282b71a49"
   }
  }
 },
 "nbformat": 4,
 "nbformat_minor": 2
}
